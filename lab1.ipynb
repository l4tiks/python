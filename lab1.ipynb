{
  "metadata": {
    "kernelspec": {
      "name": "python",
      "display_name": "Python (Pyodide)",
      "language": "python"
    },
    "language_info": {
      "codemirror_mode": {
        "name": "python",
        "version": 3
      },
      "file_extension": ".py",
      "mimetype": "text/x-python",
      "name": "python",
      "nbconvert_exporter": "python",
      "pygments_lexer": "ipython3",
      "version": "3.8"
    }
  },
  "nbformat_minor": 4,
  "nbformat": 4,
  "cells": [
    {
      "cell_type": "markdown",
      "source": "# Інформація про країну: Джибуті\n**Площа:** 23,200 км²  \n**Населення:** 973,560 осіб  \n**Державний устрій:** Унітарна республіка  \n\n### Видатні особистості\n- Хасан Гулєд Аптідон (перший президент).\n- Ісмаїл Омар Гелле (чинний президент).\n\n### Пам'ятки культури та природи\n- **Озеро Ассаль** — найбільше солоне озеро в Африці.\n- **Національний парк Дей**.\n![Озеро Ассаль](https://upload.wikimedia.org/wikipedia/commons/e/e9/Lac_assal.jpg)\n\n### Таблиця даних\n| Показник      | Значення       |\n|---------------|----------------|\n| ВВП (млрд $)  | 3.2            |\n| Офіційна мова | Французька     |\n| Валюта        | Джибутійський франк |\n\n### Посилання\n- [Wikipedia: Джибуті](https://uk.wikipedia.org/wiki/%D0%94%D0%B6%D0%B8%D0%B1%D1%83%D1%82%D1%96)\n",
      "metadata": {}
    },
    {
      "cell_type": "markdown",
      "source": "<svg width=\"300\" height=\"200\">\n  <rect width=\"300\" height=\"66\" style=\"fill:blue;\" />\n  <rect y=\"66\" width=\"300\" height=\"66\" style=\"fill:white;\" />\n  <rect y=\"132\" width=\"300\" height=\"66\" style=\"fill:green;\" />\n  <polygon points=\"0,0 100,100 0,200\" style=\"fill:red;\" />\n</svg>\n",
      "metadata": {}
    },
    {
      "cell_type": "code",
      "source": "def bubble_sort(arr):\n    n = len(arr)\n    swap_count = 0\n    for i in range(n):\n        for j in range(0, n-i-1):\n            if arr[j] > arr[j+1]:\n                arr[j], arr[j+1] = arr[j+1], arr[j]\n                swap_count += 1\n    return arr, swap_count\n\n# Тестові приклади\narr1 = [5, 6, 23, 8, 12, 5]\nsorted_arr1, swaps1 = bubble_sort(arr1)\nprint(f\"Відсортований список: {sorted_arr1}, Кількість перестановок: {swaps1}\")\n\narr2 = [7, 3, 1, 7, 4, 2, 8, 2]\nsorted_arr2, swaps2 = bubble_sort(arr2)\nprint(f\"Відсортований список: {sorted_arr2}, Кількість перестановок: {swaps2}\")\n",
      "metadata": {
        "trusted": true
      },
      "outputs": [
        {
          "name": "stdout",
          "text": "Відсортований список: [5, 5, 6, 8, 12, 23], Кількість перестановок: 6\nВідсортований список: [1, 2, 2, 3, 4, 7, 7, 8], Кількість перестановок: 14\n",
          "output_type": "stream"
        }
      ],
      "execution_count": 3
    }
  ]
}