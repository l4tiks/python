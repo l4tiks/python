{
  "metadata": {
    "kernelspec": {
      "name": "python",
      "display_name": "Python (Pyodide)",
      "language": "python"
    },
    "language_info": {
      "codemirror_mode": {
        "name": "python",
        "version": 3
      },
      "file_extension": ".py",
      "mimetype": "text/x-python",
      "name": "python",
      "nbconvert_exporter": "python",
      "pygments_lexer": "ipython3",
      "version": "3.8"
    }
  },
  "nbformat_minor": 4,
  "nbformat": 4,
  "cells": [
    {
      "cell_type": "markdown",
      "source": "# Джибуті\nДжибуті — країна на Сході Африки, розташована на узбережжі Червоного моря та Баб-ель-Мандебської протоки, на межі між Червоним морем та Аравійським морем.\n\n## Загальна інформація\n- **Площа**: 23,200 км²  \n- **Населення**: близько 900,000 осіб  \n- **Державний устрій**: Президентська республіка  \n- **Мова**: Французька, арабська  \n- **Валюта**: Джибутійський франк (DJF)  \n\n## Видатні персоналії\n- **Хасан Гулед Аптідонд** — перший президент Джибуті, відомий своєю роллю у здобутті незалежності.  \n- **Абділаї Мохамед** — відомий художник та культурний діяч, який сприяв розвитку культури країни.  \n- **Ібрагім Махмуд** — активіст та політик, який боровся за права національних меншин у Джибуті.\n\n## Пам'ятки культури та природи\n- **Гора Джебель** — найвища точка країни (2023 м).  \n- **Національний парк \"Мустелі\"** — охоронювана територія з багатим біорізноманіттям, в тому числі рідкісними видами флори та фауни.  \n- **Озеро Аббе** — велике солоне озеро, відоме своєю унікальною природною красою та карстовими утвореннями.  \n\n## Таблиця: Основні факти про Джибуті\n| Параметр             | Опис                     |  \n|----------------------|--------------------------|  \n| **Столиця**           | Джибуті                  |  \n| **Офіційна мова**     | Французька, арабська     |  \n| **Валюта**            | Джибутійський франк (DJF) |  \n| **Площа**             | 23,200 км²               |  \n| **Основна релігія**   | Іслам                    |  \n| **Державний устрій**  | Президентська республіка |  \n\n## Відомі природні ресурси\n- Фосфати  \n- Калійні солі  \n- Невеликі запаси нафти  \n\n## Вкладений список:  \n### Політичний устрій:  \n- **Король** — Джибутійський президент  \n- **Парламент**:  \n  - Верхня палата — Сенат  \n  - Нижня палата — Палата представників  \n\n### Географія:  \n- **Пустелі**: Мустелі  \n- **Гори**: Джебель  \n\n## Гіперпосилання  \n[Детальніше про Джибуті на Wikipedia](https://uk.wikipedia.org/wiki/Джибуті)\n\n## Картинка Джибуті\n![Джибуті](https://upload.wikimedia.org/wikipedia/commons/thumb/a/a7/Flag_of_Djibouti.svg/320px-Flag_of_Djibouti.svg.png)\n\n## Прапор Джибуті\n<svg xmlns=\"http://www.w3.org/2000/svg\" width=\"300\" height=\"200\">\n  <rect width=\"300\" height=\"200\" fill=\"#009966\"/>\n  <polygon points=\"0,0 100,100 0,200\" fill=\"#FFFFFF\"/>\n  <polygon points=\"300,0 200,100 300,200\" fill=\"#FFD700\"/>\n</svg>\n",
      "metadata": {}
    },
    {
      "cell_type": "markdown",
      "source": "<svg width=\"300\" height=\"200\">\n  <rect width=\"300\" height=\"66\" style=\"fill:blue;\" />\n  <rect y=\"66\" width=\"300\" height=\"66\" style=\"fill:white;\" />\n  <rect y=\"132\" width=\"300\" height=\"66\" style=\"fill:green;\" />\n  <polygon points=\"0,0 100,100 0,200\" style=\"fill:red;\" />\n</svg>\n",
      "metadata": {}
    },
    {
      "cell_type": "code",
      "source": "def bubble_sort(arr):\n    n = len(arr)\n    swap_count = 0\n    for i in range(n):\n        for j in range(0, n-i-1):\n            if arr[j] > arr[j+1]:\n                arr[j], arr[j+1] = arr[j+1], arr[j]\n                swap_count += 1\n    return arr, swap_count\n\n# Тестові приклади\narr1 = [5, 6, 23, 8, 12, 5]\nsorted_arr1, swaps1 = bubble_sort(arr1)\nprint(f\"Відсортований список: {sorted_arr1}, Кількість перестановок: {swaps1}\")\n\narr2 = [7, 3, 1, 7, 4, 2, 8, 2]\nsorted_arr2, swaps2 = bubble_sort(arr2)\nprint(f\"Відсортований список: {sorted_arr2}, Кількість перестановок: {swaps2}\")\n",
      "metadata": {
        "trusted": true
      },
      "outputs": [
        {
          "name": "stdout",
          "text": "Відсортований список: [5, 5, 6, 8, 12, 23], Кількість перестановок: 6\nВідсортований список: [1, 2, 2, 3, 4, 7, 7, 8], Кількість перестановок: 14\n",
          "output_type": "stream"
        }
      ],
      "execution_count": 2
    },
    {
      "cell_type": "code",
      "source": "",
      "metadata": {
        "trusted": true
      },
      "outputs": [],
      "execution_count": null
    }
  ]
}